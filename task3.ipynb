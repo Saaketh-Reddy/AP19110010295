{
 "cells": [
  {
   "cell_type": "code",
   "execution_count": 5,
   "id": "18a06c74",
   "metadata": {},
   "outputs": [
    {
     "name": "stdout",
     "output_type": "stream",
     "text": [
      "Enter a stringSaaketh\n",
      "\n",
      "The string is 'Odd'\n",
      " k\n"
     ]
    }
   ],
   "source": [
    "#odd string\n",
    "\n",
    "s = input(\"Enter a string\")\n",
    "\n",
    "if len(s)%2==0:\n",
    "   print(\"\\nThe string is 'Even'\\n \",s[len(s)//2-1], s[len(s)//2])\n",
    "if len(s)%2!=0:\n",
    "   print(\"\\nThe string is 'Odd'\\n\", s[len(s)//2])\n",
    "\n",
    "    "
   ]
  },
  {
   "cell_type": "code",
   "execution_count": 7,
   "id": "53767d7d",
   "metadata": {},
   "outputs": [
    {
     "name": "stdout",
     "output_type": "stream",
     "text": [
      "Enter a stringEVEN\n",
      "\n",
      "The string is 'Even'\n",
      "  V E\n"
     ]
    }
   ],
   "source": [
    "#even string\n",
    "\n",
    "s = input(\"Enter a string\")\n",
    "\n",
    "if len(s)%2==0:\n",
    "   print(\"\\nThe string is 'Even'\\n \",s[len(s)//2-1], s[len(s)//2])\n",
    "if len(s)%2!=0:\n",
    "   print(\"\\nThe string is 'Odd'\\n\", s[len(s)//2])\n",
    "\n",
    "\n"
   ]
  },
  {
   "cell_type": "code",
   "execution_count": null,
   "id": "ada73974",
   "metadata": {},
   "outputs": [],
   "source": []
  }
 ],
 "metadata": {
  "kernelspec": {
   "display_name": "Python 3",
   "language": "python",
   "name": "python3"
  },
  "language_info": {
   "codemirror_mode": {
    "name": "ipython",
    "version": 3
   },
   "file_extension": ".py",
   "mimetype": "text/x-python",
   "name": "python",
   "nbconvert_exporter": "python",
   "pygments_lexer": "ipython3",
   "version": "3.8.8"
  }
 },
 "nbformat": 4,
 "nbformat_minor": 5
}
