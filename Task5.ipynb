{
 "cells": [
  {
   "cell_type": "code",
   "execution_count": 1,
   "id": "a1cb95d8",
   "metadata": {},
   "outputs": [
    {
     "name": "stdout",
     "output_type": "stream",
     "text": [
      "{1: 1, 2: 4, 3: 9, 4: 16, 5: 25, 6: 36, 7: 49, 8: 64, 9: 81, 10: 100, 11: 121, 12: 144, 13: 169, 14: 196, 15: 225}\n"
     ]
    }
   ],
   "source": [
    "d={}\n",
    "for i in range(1,16):\n",
    "    d[i]=i**2\n",
    "print(d)"
   ]
  },
  {
   "cell_type": "code",
   "execution_count": 4,
   "id": "910fd18f",
   "metadata": {},
   "outputs": [
    {
     "name": "stdout",
     "output_type": "stream",
     "text": [
      "{'A': 'Apple', 'B': 'Banana', 'C': 'Carrot'}\n"
     ]
    }
   ],
   "source": [
    "a=['A','B','C']\n",
    "b=['Apple','Banana','Carrot']\n",
    "d=dict(zip(a,b))\n",
    "print(d)\n",
    "\n",
    "\n",
    "\n"
   ]
  },
  {
   "cell_type": "code",
   "execution_count": 5,
   "id": "07344d82",
   "metadata": {},
   "outputs": [
    {
     "name": "stdout",
     "output_type": "stream",
     "text": [
      "{'n1': [2, 3, 4]}\n",
      "{'n2': [8, 9, 10]}\n",
      "{'n3': [1, 2, 3]}\n"
     ]
    }
   ],
   "source": [
    "n={'n1': [4,3,2], 'n2': [10,9,8], 'n3': [2,3,1]}\n",
    "\n",
    "for i, j in n.items():\n",
    "    sorted_n ={i:sorted(j)}\n",
    "    print(sorted_n)"
   ]
  },
  {
   "cell_type": "code",
   "execution_count": null,
   "id": "9470a9d4",
   "metadata": {},
   "outputs": [],
   "source": []
  }
 ],
 "metadata": {
  "kernelspec": {
   "display_name": "Python 3",
   "language": "python",
   "name": "python3"
  },
  "language_info": {
   "codemirror_mode": {
    "name": "ipython",
    "version": 3
   },
   "file_extension": ".py",
   "mimetype": "text/x-python",
   "name": "python",
   "nbconvert_exporter": "python",
   "pygments_lexer": "ipython3",
   "version": "3.8.8"
  }
 },
 "nbformat": 4,
 "nbformat_minor": 5
}
