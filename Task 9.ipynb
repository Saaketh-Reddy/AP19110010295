{
 "cells": [
  {
   "cell_type": "code",
   "execution_count": 10,
   "id": "5798ee32",
   "metadata": {},
   "outputs": [],
   "source": [
    "\n",
    "#Generate a 3 digit OTP from 2 different Classes Mail class and Phone class return 6 digit OTP from both Base classes\n",
    "#3-Digit OTP from two different classes(Mail Class & Phone Class)"
   ]
  },
  {
   "cell_type": "code",
   "execution_count": 11,
   "id": "61194550",
   "metadata": {},
   "outputs": [],
   "source": [
    "import random\n",
    "class Mail:\n",
    "    def __init__(otp):\n",
    "        otp.v1 = 000\n",
    "        otp.v2 = 999\n",
    "    def m(otp):\n",
    "            print(\"3-Digit OTP:\", random.randint(otp.v1,otp.v2))\n",
    "        \n",
    "class Phone(Mail):\n",
    "    def p(otp):\n",
    "        print(\"3-Digit OTP:\", random.randint(otp.v1,otp.v2))\n",
    "\n",
    "        "
   ]
  },
  {
   "cell_type": "code",
   "execution_count": 12,
   "id": "08643e7c",
   "metadata": {},
   "outputs": [],
   "source": [
    "#3-Digit OTP from Mail Class"
   ]
  },
  {
   "cell_type": "code",
   "execution_count": 13,
   "id": "cde97d14",
   "metadata": {},
   "outputs": [
    {
     "name": "stdout",
     "output_type": "stream",
     "text": [
      "3-Digit OTP: 884\n"
     ]
    }
   ],
   "source": [
    "obj_1 = Mail()\n",
    "obj_1.m()\n",
    "\n",
    "\n"
   ]
  },
  {
   "cell_type": "code",
   "execution_count": 14,
   "id": "49bfbe4d",
   "metadata": {},
   "outputs": [
    {
     "name": "stdout",
     "output_type": "stream",
     "text": [
      "3-Digit OTP: 354\n"
     ]
    }
   ],
   "source": [
    "#3-Digit OTP from Phone Class\n",
    "\n",
    "obj_2=Phone()\n",
    "obj_2.p()\n"
   ]
  },
  {
   "cell_type": "code",
   "execution_count": 15,
   "id": "ca36c6de",
   "metadata": {},
   "outputs": [],
   "source": [
    "#6-digit OTP from both base classes(superclasses)"
   ]
  },
  {
   "cell_type": "code",
   "execution_count": 16,
   "id": "a5456535",
   "metadata": {},
   "outputs": [
    {
     "name": "stdout",
     "output_type": "stream",
     "text": [
      "6-Digit OTP: 868 513\n"
     ]
    }
   ],
   "source": [
    "import random\n",
    "class Mail:\n",
    "    def __init__(otp):\n",
    "        otp.a = random.randint(000,999)\n",
    "class Phone:\n",
    "    def __init__(otp):\n",
    "        otp.b = random.randint(000,999)\n",
    "        \n",
    "class Ali(Phone,Mail):\n",
    "    def __init__(otp):\n",
    "        Mail.__init__(otp)\n",
    "        Phone.__init__(otp)\n",
    "        print(\"6-Digit OTP:\",otp.a,otp.b)\n",
    "obj_1=Ali()\n",
    "\n"
   ]
  },
  {
   "cell_type": "code",
   "execution_count": null,
   "id": "3e860ef9",
   "metadata": {},
   "outputs": [],
   "source": []
  }
 ],
 "metadata": {
  "kernelspec": {
   "display_name": "Python 3",
   "language": "python",
   "name": "python3"
  },
  "language_info": {
   "codemirror_mode": {
    "name": "ipython",
    "version": 3
   },
   "file_extension": ".py",
   "mimetype": "text/x-python",
   "name": "python",
   "nbconvert_exporter": "python",
   "pygments_lexer": "ipython3",
   "version": "3.8.8"
  }
 },
 "nbformat": 4,
 "nbformat_minor": 5
}
