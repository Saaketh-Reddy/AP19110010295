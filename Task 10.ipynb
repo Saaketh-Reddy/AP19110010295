{
 "cells": [
  {
   "cell_type": "code",
   "execution_count": 1,
   "id": "de344fd2",
   "metadata": {},
   "outputs": [],
   "source": [
    "#TASK1 #write a program for getting the last five line from the file\n"
   ]
  },
  {
   "cell_type": "code",
   "execution_count": 2,
   "id": "8bd7ae74",
   "metadata": {},
   "outputs": [
    {
     "name": "stdout",
     "output_type": "stream",
     "text": [
      "Your Text File:\n",
      "line1 \n",
      "line2  \n",
      "line3  \n",
      "line4  \n",
      "line5  \n",
      "line6  \n",
      "line7  \n",
      "line8  \n",
      "line9  \n",
      "line10  \n",
      "\n"
     ]
    }
   ],
   "source": [
    "f = open(\"file.txt\",'w')\n",
    "f.write(\"line1 \\n\")\n",
    "f.write(\"line2  \\n\")\n",
    "f.write(\"line3  \\n\")\n",
    "f.write(\"line4  \\n\")\n",
    "f.write(\"line5  \\n\")\n",
    "f.write(\"line6  \\n\")\n",
    "f.write(\"line7  \\n\")\n",
    "f.write(\"line8  \\n\")\n",
    "f.write(\"line9  \\n\")\n",
    "f.write(\"line10  \\n\")\n",
    "\n",
    "f = open('file.txt')\n",
    "print(\"Your Text File:\")\n",
    "print(f.read())\n",
    "f.close()"
   ]
  },
  {
   "cell_type": "code",
   "execution_count": null,
   "id": "bbbd9a73",
   "metadata": {},
   "outputs": [],
   "source": [
    "#The last five line from the file"
   ]
  },
  {
   "cell_type": "code",
   "execution_count": 3,
   "id": "2ab8092f",
   "metadata": {},
   "outputs": [
    {
     "name": "stdout",
     "output_type": "stream",
     "text": [
      "Last five lines from the file:\n",
      "['line6  \\n', 'line7  \\n', 'line8  \\n', 'line9  \\n', 'line10  \\n']\n"
     ]
    }
   ],
   "source": [
    "f = open(\"file.txt\", \"r\")\n",
    "l = f.readlines()\n",
    "s = l[-5:]\n",
    "print(\"Last five lines from the file:\")\n",
    "print(s)\n",
    "f.close()"
   ]
  },
  {
   "cell_type": "code",
   "execution_count": 4,
   "id": "d825fefc",
   "metadata": {},
   "outputs": [],
   "source": [
    "#TASK2 #Create a function for appending the data into the file."
   ]
  },
  {
   "cell_type": "code",
   "execution_count": 5,
   "id": "c48f6301",
   "metadata": {},
   "outputs": [
    {
     "name": "stdout",
     "output_type": "stream",
     "text": [
      "new_line1 \n",
      "new_line2 \n",
      "new_line3 \n",
      "\n"
     ]
    }
   ],
   "source": [
    "f = open('new_file.txt','w')\n",
    "f.write(\"new_line1 \\n\")\n",
    "f.write(\"new_line2 \\n\")\n",
    "f.write(\"new_line3 \\n\")\n",
    "f.close()\n",
    "\n",
    "f = open('new_file.txt')\n",
    "print(f.read())\n",
    "f.close()"
   ]
  },
  {
   "cell_type": "code",
   "execution_count": 6,
   "id": "36407dea",
   "metadata": {},
   "outputs": [],
   "source": [
    "#Creating the function to append the data"
   ]
  },
  {
   "cell_type": "code",
   "execution_count": 7,
   "id": "ec1c64e9",
   "metadata": {},
   "outputs": [
    {
     "name": "stdout",
     "output_type": "stream",
     "text": [
      "appended data:\n",
      "new_line1 \n",
      "new_line2 \n",
      "new_line3 \n",
      "new_line4 \n",
      "new_line5 \n",
      "\n"
     ]
    }
   ],
   "source": [
    "def append():\n",
    "    f=open('new_file.txt', 'a+')\n",
    "    f.write(\"new_line4 \\n\")\n",
    "    f.write(\"new_line5 \\n\") \n",
    "    f.close()\n",
    "    \n",
    "append()\n",
    "\n",
    "f = open('new_file.txt')\n",
    "print(\"appended data:\")\n",
    "print(f.read())\n",
    "f.close()"
   ]
  },
  {
   "cell_type": "code",
   "execution_count": 8,
   "id": "c0b60592",
   "metadata": {},
   "outputs": [],
   "source": [
    "#TASK3 #create a program for updating a word in the file"
   ]
  },
  {
   "cell_type": "code",
   "execution_count": 11,
   "id": "5e2f4952",
   "metadata": {},
   "outputs": [
    {
     "name": "stdout",
     "output_type": "stream",
     "text": [
      " Name   Uni    Roll_No \n",
      "Saaketh SRM_AP 222 \n",
      "\n"
     ]
    }
   ],
   "source": [
    "import re\n",
    "f = open('file2.txt','w')\n",
    "f.write(\" Name   Uni    Roll_No \\n\")\n",
    "f.write(\"Saaketh SRM_AP 222 \\n\")\n",
    "f.close()\n",
    "f = open('file2.txt')\n",
    "print(f.read())"
   ]
  },
  {
   "cell_type": "code",
   "execution_count": 12,
   "id": "b42c4f38",
   "metadata": {},
   "outputs": [],
   "source": [
    "#Updating a word in the file"
   ]
  },
  {
   "cell_type": "code",
   "execution_count": 14,
   "id": "5440eeea",
   "metadata": {},
   "outputs": [
    {
     "name": "stdout",
     "output_type": "stream",
     "text": [
      "Updated Data: AP19110010295\n",
      " Name   Uni    Roll_No \n",
      "Saaketh SRM_AP 222 \n",
      "\n"
     ]
    }
   ],
   "source": [
    "with open('file2.txt','r+') as f:\n",
    "    text = f.read()\n",
    "    text = re.sub('123', input(\"Updated Data: \"), text)\n",
    "    f.seek(0)\n",
    "    f.write(text)\n",
    "    f.truncate()\n",
    "f = open('file2.txt')\n",
    "print(f.read())"
   ]
  },
  {
   "cell_type": "code",
   "execution_count": null,
   "id": "6411f6a1",
   "metadata": {},
   "outputs": [],
   "source": []
  },
  {
   "cell_type": "code",
   "execution_count": null,
   "id": "c7c490b5",
   "metadata": {},
   "outputs": [],
   "source": []
  }
 ],
 "metadata": {
  "kernelspec": {
   "display_name": "Python 3",
   "language": "python",
   "name": "python3"
  },
  "language_info": {
   "codemirror_mode": {
    "name": "ipython",
    "version": 3
   },
   "file_extension": ".py",
   "mimetype": "text/x-python",
   "name": "python",
   "nbconvert_exporter": "python",
   "pygments_lexer": "ipython3",
   "version": "3.8.8"
  }
 },
 "nbformat": 4,
 "nbformat_minor": 5
}
