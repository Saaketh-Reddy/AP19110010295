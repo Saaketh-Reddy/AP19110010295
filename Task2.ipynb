{
 "cells": [
  {
   "cell_type": "code",
   "execution_count": 16,
   "id": "fb249b8f",
   "metadata": {},
   "outputs": [
    {
     "name": "stdout",
     "output_type": "stream",
     "text": [
      "\n",
      "Not an SRM Student!\n"
     ]
    }
   ],
   "source": [
    "#task2\n",
    "\n",
    "string1 = 'AP19110010295'\n",
    "if string1[-3:].startswith('01'):\n",
    "    print(\"\\nCSE department\")\n",
    "elif string1[-3:].startswith('11'):\n",
    "    print(\"\\nIT department\")\n",
    "elif string1[-3:].startswith('01'):\n",
    "    print(\"\\nECE department\")\n",
    "else :\n",
    "    print(\"\\nNot an SRM Student!\")    "
   ]
  },
  {
   "cell_type": "code",
   "execution_count": null,
   "id": "9e49ee68",
   "metadata": {},
   "outputs": [],
   "source": []
  }
 ],
 "metadata": {
  "kernelspec": {
   "display_name": "Python 3",
   "language": "python",
   "name": "python3"
  },
  "language_info": {
   "codemirror_mode": {
    "name": "ipython",
    "version": 3
   },
   "file_extension": ".py",
   "mimetype": "text/x-python",
   "name": "python",
   "nbconvert_exporter": "python",
   "pygments_lexer": "ipython3",
   "version": "3.8.8"
  }
 },
 "nbformat": 4,
 "nbformat_minor": 5
}
