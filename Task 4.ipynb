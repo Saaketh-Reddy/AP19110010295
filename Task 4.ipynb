{
 "cells": [
  {
   "cell_type": "code",
   "execution_count": 3,
   "id": "5b81a2e6",
   "metadata": {},
   "outputs": [
    {
     "name": "stdout",
     "output_type": "stream",
     "text": [
      "Enter the first list here :1,2,3,4,5\n",
      "Enter the second list here:4,5,6,7,8,9\n",
      "[',', ',', ',', '4', ',', '5']\n"
     ]
    }
   ],
   "source": [
    "if   __name__ == '__main__':\n",
    "  list1 = input(\"Enter the first list here :\")\n",
    "  list2 = input(\"Enter the second list here:\")\n",
    "  common_ele = [i for i in list1 if i in list2]\n",
    "  print(common_ele)\n",
    "\n",
    "    "
   ]
  },
  {
   "cell_type": "code",
   "execution_count": null,
   "id": "fdc32cd3",
   "metadata": {},
   "outputs": [],
   "source": []
  }
 ],
 "metadata": {
  "kernelspec": {
   "display_name": "Python 3",
   "language": "python",
   "name": "python3"
  },
  "language_info": {
   "codemirror_mode": {
    "name": "ipython",
    "version": 3
   },
   "file_extension": ".py",
   "mimetype": "text/x-python",
   "name": "python",
   "nbconvert_exporter": "python",
   "pygments_lexer": "ipython3",
   "version": "3.8.8"
  }
 },
 "nbformat": 4,
 "nbformat_minor": 5
}
