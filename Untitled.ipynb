{
 "cells": [
  {
   "cell_type": "code",
   "execution_count": 19,
   "id": "0109424a",
   "metadata": {},
   "outputs": [
    {
     "name": "stdout",
     "output_type": "stream",
     "text": [
      "Please Enter Age : 19\n",
      "\n",
      "ELIGIBLE TO VOTE\n"
     ]
    }
   ],
   "source": [
    "#Program to check whether the user is eligible to vote or not.\n",
    "\n",
    "a = int(input(\"Please Enter Age : \"))\n",
    "if a >= 18:\n",
    "  print(\"\\nELIGIBLE TO VOTE\")\n",
    "else:\n",
    "  print(\"\\n \\n Not Eligible to Vote\")"
   ]
  },
  {
   "cell_type": "code",
   "execution_count": 3,
   "id": "cdc71762",
   "metadata": {},
   "outputs": [
    {
     "name": "stdout",
     "output_type": "stream",
     "text": [
      "Enter the Number :0\n",
      "\n",
      "\n",
      "Given number is Positive\n"
     ]
    }
   ],
   "source": [
    "#Program to check whether the given number is positive or negative.\n",
    "\n",
    "a = int(input(\"Enter the Number :\"))\n",
    "if a < 0:\n",
    "   print(\"\\n\\nGiven number is negative \")\n",
    "elif a >= 0:\n",
    "   print(\"\\n\\nGiven number is Positive\")"
   ]
  },
  {
   "cell_type": "markdown",
   "id": "7981e1ee",
   "metadata": {},
   "source": []
  },
  {
   "cell_type": "code",
   "execution_count": 18,
   "id": "77bcb755",
   "metadata": {},
   "outputs": [
    {
     "name": "stdout",
     "output_type": "stream",
     "text": [
      "Enter the Number :9\n",
      "\n",
      "The given number is not divisible by 4 !\n",
      "\n",
      "Odd Number!\n"
     ]
    }
   ],
   "source": [
    "#Program to check the given number is even or odd and if it's even check if it is divisible by 4 or not\n",
    "\n",
    "a = int(input(\"Enter the Number :\"))\n",
    "if a%2 == 0:\n",
    " print(\"\\nEven Number!!\")\n",
    "if a%4 == 0:\n",
    " print(\"\\nThe Given Number is divisible by 4 !\")\n",
    "elif a%4 != 0:\n",
    "        print(\"\\nThe given number is not divisible by 4 !\")\n",
    "if a%2 != 0:\n",
    "    print(\"\\nOdd Number!\")\n",
    "        \n",
    "        "
   ]
  },
  {
   "cell_type": "code",
   "execution_count": 22,
   "id": "ea391654",
   "metadata": {},
   "outputs": [
    {
     "name": "stdout",
     "output_type": "stream",
     "text": [
      "Enter the percentage of the student  :35\n",
      "Grade G\n",
      "Pass!!\n"
     ]
    }
   ],
   "source": [
    "#Program to print student grade based on the percentage like distinction, pass or fail\n",
    "\n",
    "a = int(input(\"Enter the percentage of the student  :\"))\n",
    "if a >= 90:\n",
    "    print(\"Grade A\\nPass!!\")\n",
    "elif a>= 80:\n",
    "    print(\"Grade B\\nPass!!\")\n",
    "elif a>= 70:\n",
    "    print(\"Grade C\\nPass!!\")\n",
    "elif a>= 60:\n",
    "    print(\"Grade D\\nPass!!\")\n",
    "elif a>= 50:\n",
    "    print(\"Grade E\\nPass!!\")\n",
    "elif a>= 40:\n",
    "    print(\"Grade F\\nPass!!\")\n",
    "elif a>= 35:\n",
    "    print(\"Grade G\\nPass!!\")\n",
    "elif a <35:\n",
    "    print(\"Grade H\\nFail!!!\")        \n",
    "    "
   ]
  },
  {
   "cell_type": "code",
   "execution_count": 25,
   "id": "7acea27f",
   "metadata": {},
   "outputs": [
    {
     "name": "stdout",
     "output_type": "stream",
     "text": [
      "Enter the Year  :2016\n",
      "Given year is a Leap Year!!!\n"
     ]
    }
   ],
   "source": [
    "#Program to check whether the given Year is Leap year or not.\n",
    "\n",
    "Y = int(input(\"Enter the Year  :\"))\n",
    "if Y%4 ==0:\n",
    " print(\"Given year is a Leap Year!!!\")\n",
    "else:\n",
    "    print(\"Given year is Not a Leap Year\")\n",
    "    \n"
   ]
  },
  {
   "cell_type": "code",
   "execution_count": null,
   "id": "03c3e173",
   "metadata": {},
   "outputs": [],
   "source": []
  }
 ],
 "metadata": {
  "kernelspec": {
   "display_name": "Python 3",
   "language": "python",
   "name": "python3"
  },
  "language_info": {
   "codemirror_mode": {
    "name": "ipython",
    "version": 3
   },
   "file_extension": ".py",
   "mimetype": "text/x-python",
   "name": "python",
   "nbconvert_exporter": "python",
   "pygments_lexer": "ipython3",
   "version": "3.8.8"
  }
 },
 "nbformat": 4,
 "nbformat_minor": 5
}
