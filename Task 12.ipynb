{
 "cells": [
  {
   "cell_type": "code",
   "execution_count": 1,
   "id": "bf82b115",
   "metadata": {},
   "outputs": [],
   "source": [
    "#Create arrays with all the data types available in numpy\n"
   ]
  },
  {
   "cell_type": "code",
   "execution_count": 2,
   "id": "92fe27c5",
   "metadata": {},
   "outputs": [],
   "source": [
    "\n",
    "import numpy as np"
   ]
  },
  {
   "cell_type": "code",
   "execution_count": 4,
   "id": "55ad591e",
   "metadata": {},
   "outputs": [
    {
     "name": "stdout",
     "output_type": "stream",
     "text": [
      "[False False False  True]\n",
      "bool\n"
     ]
    }
   ],
   "source": [
    "#boolean\n",
    "x = np.array([False, False, False, True], dtype = 'bool_')\n",
    "print(x)\n",
    "print(x.dtype)"
   ]
  },
  {
   "cell_type": "code",
   "execution_count": 5,
   "id": "97510167",
   "metadata": {},
   "outputs": [
    {
     "name": "stdout",
     "output_type": "stream",
     "text": [
      "[7 5 3]\n",
      "int32\n"
     ]
    }
   ],
   "source": [
    "#integer\n",
    "x = np.array([7, 5, 3], dtype = 'int_')\n",
    "print(x)\n",
    "print(x.dtype)"
   ]
  },
  {
   "cell_type": "code",
   "execution_count": 6,
   "id": "5cab653c",
   "metadata": {},
   "outputs": [
    {
     "name": "stdout",
     "output_type": "stream",
     "text": [
      "[6.9  4.2  2.2  8.01 5.6 ]\n",
      "float64\n"
     ]
    }
   ],
   "source": [
    "#Float\n",
    "x = np.array([6.9, 4.2, 2.2, 8.01, 5.6], dtype = 'float_')\n",
    "print(x)\n",
    "print(x.dtype)"
   ]
  },
  {
   "cell_type": "code",
   "execution_count": null,
   "id": "b3fcde6c",
   "metadata": {},
   "outputs": [],
   "source": []
  }
 ],
 "metadata": {
  "kernelspec": {
   "display_name": "Python 3",
   "language": "python",
   "name": "python3"
  },
  "language_info": {
   "codemirror_mode": {
    "name": "ipython",
    "version": 3
   },
   "file_extension": ".py",
   "mimetype": "text/x-python",
   "name": "python",
   "nbconvert_exporter": "python",
   "pygments_lexer": "ipython3",
   "version": "3.8.8"
  }
 },
 "nbformat": 4,
 "nbformat_minor": 5
}
