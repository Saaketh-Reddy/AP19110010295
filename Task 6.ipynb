{
 "cells": [
  {
   "cell_type": "code",
   "execution_count": 4,
   "id": "40148add",
   "metadata": {},
   "outputs": [
    {
     "name": "stdout",
     "output_type": "stream",
     "text": [
      "6321\n",
      "0707\n",
      "6969\n",
      "4200\n"
     ]
    }
   ],
   "source": [
    "#Write a pattern to display 4 digit numbers from the list1\n",
    "\n",
    "list1 = [5841, 987654321, 453267, 1234, 675, 8797]\n",
    "\n",
    "import re\n",
    "list1 = ['6321', '789163873', '425162', '0707', '007', '6969', '128372234244', '1', '4200']\n",
    "for i in list1:\n",
    "    if re.findall('^[0-9]{4}$', i):\n",
    "        print(i)"
   ]
  },
  {
   "cell_type": "code",
   "execution_count": 5,
   "id": "7c3f58db",
   "metadata": {},
   "outputs": [
    {
     "name": "stdout",
     "output_type": "stream",
     "text": [
      "9876543210\n",
      "8123456789\n",
      "7890123456\n"
     ]
    },
    {
     "data": {
      "text/plain": [
       "9876543210"
      ]
     },
     "execution_count": 5,
     "metadata": {},
     "output_type": "execute_result"
    }
   ],
   "source": [
    "#Validate a phone number using patterns.\n",
    "\n",
    "ph_list = [9876543210, 8123456789, 7890123456, 789654, 1234567890]\n",
    "\n",
    "ph_list = ['9876543210', '8123456789', '7890123456', '789654', '1234567890']\n",
    "for i in ph_list:\n",
    "    if re.findall('[6-9]{1}[0-9]{9}$', i):\n",
    "        print(i)\n",
    "9876543210"
   ]
  },
  {
   "cell_type": "code",
   "execution_count": null,
   "id": "8d5f9cbc",
   "metadata": {},
   "outputs": [],
   "source": []
  }
 ],
 "metadata": {
  "kernelspec": {
   "display_name": "Python 3",
   "language": "python",
   "name": "python3"
  },
  "language_info": {
   "codemirror_mode": {
    "name": "ipython",
    "version": 3
   },
   "file_extension": ".py",
   "mimetype": "text/x-python",
   "name": "python",
   "nbconvert_exporter": "python",
   "pygments_lexer": "ipython3",
   "version": "3.8.8"
  }
 },
 "nbformat": 4,
 "nbformat_minor": 5
}
